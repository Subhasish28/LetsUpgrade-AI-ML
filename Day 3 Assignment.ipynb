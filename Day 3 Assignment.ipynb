{
 "cells": [
  {
   "cell_type": "code",
   "execution_count": 4,
   "metadata": {},
   "outputs": [
    {
     "name": "stdout",
     "output_type": "stream",
     "text": [
      "Subtraction of two complex number is (3-8j)\n"
     ]
    }
   ],
   "source": [
    "# Question 1: Write a program to subtract two complex numbers in Python.\n",
    "\n",
    "complexnumber1 = 5 + 4j\n",
    "complexnumber2 = 2 + 12j\n",
    "print ('Subtraction of two complex number is', complexnumber1 - complexnumber2)"
   ]
  },
  {
   "cell_type": "code",
   "execution_count": 9,
   "metadata": {},
   "outputs": [
    {
     "name": "stdout",
     "output_type": "stream",
     "text": [
      "The fourth root of 625 is 5.0\n"
     ]
    }
   ],
   "source": [
    "# Question 2 : Write a program to find the fourth root of a number.\n",
    "\n",
    "a = 625\n",
    "b = 0.25\n",
    "num = a**b\n",
    "print (\"The fourth root of 625 is\",num)"
   ]
  },
  {
   "cell_type": "code",
   "execution_count": 11,
   "metadata": {},
   "outputs": [
    {
     "name": "stdout",
     "output_type": "stream",
     "text": [
      "a = 3 and b = 2\n"
     ]
    }
   ],
   "source": [
    "# Question 3: Write a program to swap two numbers in Python with the help of a temporary variable.\n",
    "\n",
    "a = 2\n",
    "b = 3\n",
    "c = a + b\n",
    "a = c - a\n",
    "b = c - b\n",
    "print (\"a =\",a,\"and b =\",b)"
   ]
  },
  {
   "cell_type": "code",
   "execution_count": 12,
   "metadata": {},
   "outputs": [
    {
     "name": "stdout",
     "output_type": "stream",
     "text": [
      "x = 20 and y = 10\n"
     ]
    }
   ],
   "source": [
    "# Question 4: Write a program to swap two numbers in Python without using a temporary variable.\n",
    "\n",
    "x = 10\n",
    "y = 20\n",
    "x = x + y\n",
    "y = x - y\n",
    "x = x - y\n",
    "print (\"x =\",x,\"and y =\",y)"
   ]
  },
  {
   "cell_type": "code",
   "execution_count": 16,
   "metadata": {},
   "outputs": [
    {
     "name": "stdout",
     "output_type": "stream",
     "text": [
      "102 Fahrenheit is 312.3888888888889 kelvin\n",
      "102 Fahrenheit is 38.888888888888886 celsius\n"
     ]
    }
   ],
   "source": [
    "# Question 5: Write a program to convert Fahrenheit to kelvin and celsius both.\n",
    "\n",
    "f = 102\n",
    "k = 273.5 + ((F - 32.0) * (5.0/9.0))\n",
    "c = (f - 32) * 5/9\n",
    "print (\"102 Fahrenheit is\",k,\"kelvin\")\n",
    "print (\"102 Fahrenheit is\",c,\"celsius\")\n"
   ]
  },
  {
   "cell_type": "code",
   "execution_count": 1,
   "metadata": {},
   "outputs": [
    {
     "name": "stdout",
     "output_type": "stream",
     "text": [
      "<class 'int'>\n",
      "<class 'float'>\n",
      "<class 'str'>\n",
      "<class 'list'>\n",
      "<class 'tuple'>\n",
      "<class 'bool'>\n"
     ]
    }
   ],
   "source": [
    "# Question 6: Write a program to demonstrate all the available data types in Python. Hint: Use type() function.\n",
    "\n",
    "a = 4\n",
    "b = 2.3\n",
    "c = \"Python\"\n",
    "d = [\"apple\", \"banana\", \"cherry\"]\n",
    "e = (\"apple\", \"banana\", \"cherry\")\n",
    "f = True\n",
    "print (type(a))\n",
    "print (type(b))\n",
    "print (type(c))\n",
    "print (type(d))\n",
    "print (type(e))\n",
    "print (type(f))"
   ]
  }
 ],
 "metadata": {
  "kernelspec": {
   "display_name": "Python 3",
   "language": "python",
   "name": "python3"
  },
  "language_info": {
   "codemirror_mode": {
    "name": "ipython",
    "version": 3
   },
   "file_extension": ".py",
   "mimetype": "text/x-python",
   "name": "python",
   "nbconvert_exporter": "python",
   "pygments_lexer": "ipython3",
   "version": "3.8.3"
  }
 },
 "nbformat": 4,
 "nbformat_minor": 4
}
