{
 "cells": [
  {
   "cell_type": "code",
   "execution_count": null,
   "metadata": {},
   "outputs": [],
   "source": [
    "# Question 1:\n",
    "# Write a program to copy the contents of one file to another using a for loop. (Don’t use built-in copy function)\n",
    "\n",
    "with open(\"test.txt\") as f:\n",
    "    with open(\"out.txt\", \"w\") as f1:\n",
    "        for line in f:\n",
    "            f1.write(line)"
   ]
  },
  {
   "cell_type": "code",
   "execution_count": 8,
   "metadata": {},
   "outputs": [
    {
     "name": "stdout",
     "output_type": "stream",
     "text": [
      "['Blue']\n",
      "['White']\n"
     ]
    }
   ],
   "source": [
    "# Question 2: Write a Python program to find maximum and minimum values in the dictionary. Do not use built-in min\n",
    "# and max functions.\n",
    "\n",
    "test_dict = {'White' : 4, 'Black' : 2, 'Blue' : 1}\n",
    "res =  [key for key in test_dict if\n",
    "        all(test_dict[temp] >= test_dict[key]\n",
    "        for temp in test_dict)]\n",
    "print (res)\n",
    "\n",
    "res1 =  [key for key in test_dict if\n",
    "        all(test_dict[temp] <= test_dict[key]\n",
    "        for temp in test_dict)]\n",
    "print (res1)"
   ]
  },
  {
   "cell_type": "code",
   "execution_count": null,
   "metadata": {},
   "outputs": [],
   "source": []
  }
 ],
 "metadata": {
  "kernelspec": {
   "display_name": "Python 3",
   "language": "python",
   "name": "python3"
  },
  "language_info": {
   "codemirror_mode": {
    "name": "ipython",
    "version": 3
   },
   "file_extension": ".py",
   "mimetype": "text/x-python",
   "name": "python",
   "nbconvert_exporter": "python",
   "pygments_lexer": "ipython3",
   "version": "3.8.3"
  }
 },
 "nbformat": 4,
 "nbformat_minor": 4
}
