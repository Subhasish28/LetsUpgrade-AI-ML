{
 "cells": [
  {
   "cell_type": "code",
   "execution_count": 5,
   "metadata": {},
   "outputs": [
    {
     "name": "stdout",
     "output_type": "stream",
     "text": [
      "[2, 4, 6, 8]\n",
      "[2, 4, 10, 14]\n",
      "[5, 7, 9]\n"
     ]
    }
   ],
   "source": [
    "# Question 1: Recreate “NB 21 map, filter, lambda.ipynb” to try different variations or perform different calculations from\n",
    "# the ones that are in the NB\n",
    "\n",
    "# Python program to demonstrate working\n",
    "# of map.\n",
    "def addition(n): \n",
    "    return n + n\n",
    "\n",
    "numbers = (1, 2, 3, 4)\n",
    "result = map(addition, numbers)\n",
    "print(list(result))\n",
    "\n",
    "# Double all numbers using map and lambda\n",
    "numbers = (1, 2, 5, 7)\n",
    "result = map(lambda x: x + x, numbers)\n",
    "print(list(result))\n",
    "\n",
    "# Add two lists using map and lambda\n",
    "numbers1 = [1, 2, 3]\n",
    "numbers2 = [4, 5, 6]\n",
    "  \n",
    "result = map(lambda x, y: x + y, numbers1, numbers2)\n",
    "print(list(result))"
   ]
  },
  {
   "cell_type": "code",
   "execution_count": null,
   "metadata": {},
   "outputs": [],
   "source": [
    "# Question 2: Recreate your own Python NB for “Classes and Objects” from the pdf provided namely\n",
    "# “Classes&Objects.pdf”\n",
    "\n",
    "Python Classes and Objects\n",
    "\n",
    "Python Classes/Objects\n",
    "Python is an object oriented programming language.\n",
    "\n",
    "Almost everything in Python is an object, with its properties and methods.\n",
    "\n",
    "A Class is like an object constructor, or a \"blueprint\" for creating objects.\n",
    "\n",
    "Create a Class\n",
    "To create a class, use the keyword class:\n",
    "    \n",
    "Example\n",
    "Create a class named MyClass, with a property named x:\n",
    "\n",
    "class MyClass:\n",
    "  x = 5\n",
    "\n",
    "Create Object\n",
    "Now we can use the class named MyClass to create objects:\n",
    "\n",
    "Example\n",
    "Create an object named p1, and print the value of x:\n",
    "\n",
    "p1 = MyClass()\n",
    "print(p1.x)"
   ]
  },
  {
   "cell_type": "code",
   "execution_count": null,
   "metadata": {},
   "outputs": [],
   "source": []
  }
 ],
 "metadata": {
  "kernelspec": {
   "display_name": "Python 3",
   "language": "python",
   "name": "python3"
  },
  "language_info": {
   "codemirror_mode": {
    "name": "ipython",
    "version": 3
   },
   "file_extension": ".py",
   "mimetype": "text/x-python",
   "name": "python",
   "nbconvert_exporter": "python",
   "pygments_lexer": "ipython3",
   "version": "3.8.3"
  }
 },
 "nbformat": 4,
 "nbformat_minor": 4
}
